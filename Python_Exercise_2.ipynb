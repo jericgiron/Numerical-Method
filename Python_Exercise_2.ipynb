{
  "nbformat": 4,
  "nbformat_minor": 0,
  "metadata": {
    "colab": {
      "name": "Python Exercise 2.ipynb",
      "provenance": [],
      "authorship_tag": "ABX9TyPGk7Ob4hHkrlzxlrxHlOfc",
      "include_colab_link": true
    },
    "kernelspec": {
      "name": "python3",
      "display_name": "Python 3"
    },
    "language_info": {
      "name": "python"
    }
  },
  "cells": [
    {
      "cell_type": "markdown",
      "metadata": {
        "id": "view-in-github",
        "colab_type": "text"
      },
      "source": [
        "<a href=\"https://colab.research.google.com/github/jericgiron/Numerical-Method/blob/main/Python_Exercise_2.ipynb\" target=\"_parent\"><img src=\"https://colab.research.google.com/assets/colab-badge.svg\" alt=\"Open In Colab\"/></a>"
      ]
    },
    {
      "cell_type": "markdown",
      "metadata": {
        "id": "Y1jAlnAtbgfK"
      },
      "source": [
        "# Matrix and Its Operations"
      ]
    },
    {
      "cell_type": "markdown",
      "metadata": {
        "id": "5-7SXmmtdz5-"
      },
      "source": [
        "## 1. sum = A +B\n"
      ]
    },
    {
      "cell_type": "code",
      "metadata": {
        "colab": {
          "base_uri": "https://localhost:8080/"
        },
        "id": "U2aIVurWbpUx",
        "outputId": "945fa398-cc35-4396-c480-96f6ad3c20c1"
      },
      "source": [
        "import numpy as np\n",
        "\n",
        "A = np.array([\n",
        "    [-5,0],\n",
        "    [4,1]\n",
        "])\n",
        "B = np.array([\n",
        "    [6,-3],\n",
        "    [2,3]\n",
        "])\n",
        "\n",
        "A + B"
      ],
      "execution_count": 2,
      "outputs": [
        {
          "output_type": "execute_result",
          "data": {
            "text/plain": [
              "array([[ 1, -3],\n",
              "       [ 6,  4]])"
            ]
          },
          "metadata": {},
          "execution_count": 2
        }
      ]
    },
    {
      "cell_type": "markdown",
      "metadata": {
        "id": "g4O0tDrXeASz"
      },
      "source": [
        "## 2. Difference1 = B - A"
      ]
    },
    {
      "cell_type": "code",
      "metadata": {
        "colab": {
          "base_uri": "https://localhost:8080/"
        },
        "id": "PKHLy8UOeQdz",
        "outputId": "cbb06ff5-9a16-475a-a4fb-76069c6039ed"
      },
      "source": [
        "B-A"
      ],
      "execution_count": 3,
      "outputs": [
        {
          "output_type": "execute_result",
          "data": {
            "text/plain": [
              "array([[11, -3],\n",
              "       [-2,  2]])"
            ]
          },
          "metadata": {},
          "execution_count": 3
        }
      ]
    },
    {
      "cell_type": "markdown",
      "metadata": {
        "id": "YMh6Jt02eFK_"
      },
      "source": [
        "## 3. Difference2 = A - B"
      ]
    },
    {
      "cell_type": "code",
      "metadata": {
        "colab": {
          "base_uri": "https://localhost:8080/"
        },
        "id": "DEY8GuijdqiA",
        "outputId": "beab3bc8-3f64-4a2f-e8f1-dbe1d1fa114c"
      },
      "source": [
        "A - B"
      ],
      "execution_count": 4,
      "outputs": [
        {
          "output_type": "execute_result",
          "data": {
            "text/plain": [
              "array([[-11,   3],\n",
              "       [  2,  -2]])"
            ]
          },
          "metadata": {},
          "execution_count": 4
        }
      ]
    }
  ]
}