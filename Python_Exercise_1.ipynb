{
  "nbformat": 4,
  "nbformat_minor": 0,
  "metadata": {
    "colab": {
      "name": "Python Exercise 1.ipynb",
      "provenance": []
    },
    "kernelspec": {
      "name": "python3",
      "display_name": "Python 3"
    },
    "language_info": {
      "name": "python"
    }
  },
  "cells": [
    {
      "cell_type": "markdown",
      "metadata": {
        "id": "HbkR1361e2Kt"
      },
      "source": [
        "# Computation of Semestral Grade"
      ]
    },
    {
      "cell_type": "code",
      "metadata": {
        "colab": {
          "base_uri": "https://localhost:8080/"
        },
        "id": "T-O72J3Obltl",
        "outputId": "643791ee-8e1f-403d-bdc6-b9c3380a3471"
      },
      "source": [
        "print(\" Student Name: \")\n",
        "student = str(input())\n",
        "print(\" Course: \")\n",
        "student = str(input())\n",
        "\n",
        "w_pg, w_mg, w_fg = 0.3, 0.3, 0.4\n",
        "\n",
        "name = \"\"\n",
        "pg = float(input(\"Enter Prelim Grade: \"))\n",
        "mg = float(input(\"Enter Midterm Grade: \"))\n",
        "fg = float(input(\"Enter Finals Grade: \"))\n",
        "\n",
        "sem_grade = pg*w_pg + mg*w_mg + fg*w_fg\n",
        "print(\" {} Your semestral grade is: {} \".format(name, sem_grade))\n",
        "\n",
        "if sem_grade>70:\n",
        " print(\" You pass this Semester \")\n",
        "else:\n",
        "  print(\" You Failed this Semester \")"
      ],
      "execution_count": 34,
      "outputs": [
        {
          "output_type": "stream",
          "text": [
            " Student Name: \n",
            "jeric\n",
            " Course: \n",
            "cpe\n",
            "Enter Prelim Grade: 80\n",
            "Enter Midterm Grade: 96\n",
            "Enter Finals Grade: 86\n",
            "  Your semestral grade is: 87.19999999999999 \n",
            " You pass this Semester \n"
          ],
          "name": "stdout"
        }
      ]
    }
  ]
}