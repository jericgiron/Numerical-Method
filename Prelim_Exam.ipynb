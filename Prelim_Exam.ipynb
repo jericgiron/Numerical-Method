{
  "nbformat": 4,
  "nbformat_minor": 0,
  "metadata": {
    "colab": {
      "name": "Prelim Exam.ipynb",
      "provenance": [],
      "authorship_tag": "ABX9TyNp6QIxb5LVtbh4hJd49Kkw",
      "include_colab_link": true
    },
    "kernelspec": {
      "name": "python3",
      "display_name": "Python 3"
    },
    "language_info": {
      "name": "python"
    }
  },
  "cells": [
    {
      "cell_type": "markdown",
      "metadata": {
        "id": "view-in-github",
        "colab_type": "text"
      },
      "source": [
        "<a href=\"https://colab.research.google.com/github/jericgiron/Numerical-Method/blob/main/Prelim_Exam.ipynb\" target=\"_parent\"><img src=\"https://colab.research.google.com/assets/colab-badge.svg\" alt=\"Open In Colab\"/></a>"
      ]
    },
    {
      "cell_type": "markdown",
      "metadata": {
        "id": "4HKKSdDRN5Ik"
      },
      "source": [
        "## Prelim Exam"
      ]
    },
    {
      "cell_type": "code",
      "metadata": {
        "id": "aLripWp5N-QO",
        "colab": {
          "base_uri": "https://localhost:8080/"
        },
        "outputId": "1c3fb389-2778-452d-ec17-4837db7a7c15"
      },
      "source": [
        "import numpy as np\n",
        "A = np.linalg.det ([[1,2,3],\n",
        "                    [2,3,3],\n",
        "                    [3,4,-2]])\n",
        "A"
      ],
      "execution_count": 8,
      "outputs": [
        {
          "output_type": "execute_result",
          "data": {
            "text/plain": [
              "5.000000000000001"
            ]
          },
          "metadata": {},
          "execution_count": 8
        }
      ]
    },
    {
      "cell_type": "code",
      "metadata": {
        "colab": {
          "base_uri": "https://localhost:8080/"
        },
        "id": "6jDXjZA4Qrwg",
        "outputId": "6e6a060c-16a0-40e1-9a64-890647aa033b"
      },
      "source": [
        "print(round(A))"
      ],
      "execution_count": 10,
      "outputs": [
        {
          "output_type": "stream",
          "name": "stdout",
          "text": [
            "5\n"
          ]
        }
      ]
    }
  ]
}